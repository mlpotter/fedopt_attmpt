{
 "cells": [
  {
   "cell_type": "code",
   "execution_count": 25,
   "metadata": {
    "collapsed": true
   },
   "outputs": [],
   "source": [
    "import torch\n",
    "from client import client\n",
    "from model import LogisticRegression\n",
    "\n",
    "class ARGS(object):\n",
    "    def __init__(self):\n",
    "        pass\n",
    "\n",
    "args = ARGS\n",
    "args.epochs=3\n",
    "args.datapath = '../fedavg_attmpt/data/'\n",
    "model = LogisticRegression(4,3)\n",
    "\n",
    "worker1 = client(1,1,model,args)"
   ]
  },
  {
   "cell_type": "code",
   "execution_count": 9,
   "outputs": [],
   "source": [
    "worker1.train()"
   ],
   "metadata": {
    "collapsed": false,
    "pycharm": {
     "name": "#%%\n"
    }
   }
  },
  {
   "cell_type": "code",
   "execution_count": 10,
   "outputs": [
    {
     "data": {
      "text/plain": "{'linear.weight': tensor([[ 1.4619e-02,  5.4656e-03,  1.3410e-02,  4.4873e-03],\n         [-1.3918e-02, -5.5404e-03, -1.2263e-02, -4.0332e-03],\n         [-7.0131e-04,  7.4819e-05, -1.1475e-03, -4.5416e-04]]),\n 'linear.bias': tensor([ 2.1700e-03, -2.1182e-03, -5.1811e-05])}"
     },
     "execution_count": 10,
     "metadata": {},
     "output_type": "execute_result"
    }
   ],
   "source": [
    "worker1.send_pseudo_grad()"
   ],
   "metadata": {
    "collapsed": false,
    "pycharm": {
     "name": "#%%\n"
    }
   }
  },
  {
   "cell_type": "code",
   "execution_count": 11,
   "outputs": [
    {
     "data": {
      "text/plain": "OrderedDict([('linear.weight',\n              tensor([[-0.0076,  0.0751,  0.0168, -0.1027],\n                      [-0.0435, -0.2942,  0.0199, -0.2675],\n                      [-0.4540, -0.1180,  0.1120, -0.3506]])),\n             ('linear.bias', tensor([-0.2377,  0.3823, -0.1655]))])"
     },
     "execution_count": 11,
     "metadata": {},
     "output_type": "execute_result"
    }
   ],
   "source": [
    "model.state_dict()"
   ],
   "metadata": {
    "collapsed": false,
    "pycharm": {
     "name": "#%%\n"
    }
   }
  },
  {
   "cell_type": "code",
   "execution_count": 12,
   "outputs": [
    {
     "data": {
      "text/plain": "(5, 10)"
     },
     "execution_count": 12,
     "metadata": {},
     "output_type": "execute_result"
    }
   ],
   "source": [
    "worker1.eval()\n"
   ],
   "metadata": {
    "collapsed": false,
    "pycharm": {
     "name": "#%%\n"
    }
   }
  },
  {
   "cell_type": "code",
   "execution_count": 13,
   "outputs": [
    {
     "ename": "TypeError",
     "evalue": "'SGD' object is not callable",
     "output_type": "error",
     "traceback": [
      "\u001B[0;31m---------------------------------------------------------------------------\u001B[0m",
      "\u001B[0;31mTypeError\u001B[0m                                 Traceback (most recent call last)",
      "\u001B[0;32m/tmp/ipykernel_18640/3627009066.py\u001B[0m in \u001B[0;36m<module>\u001B[0;34m\u001B[0m\n\u001B[0;32m----> 1\u001B[0;31m \u001B[0mworker1\u001B[0m\u001B[0;34m.\u001B[0m\u001B[0moptimizer\u001B[0m\u001B[0;34m(\u001B[0m\u001B[0;34m)\u001B[0m\u001B[0;34m\u001B[0m\u001B[0;34m\u001B[0m\u001B[0m\n\u001B[0m",
      "\u001B[0;31mTypeError\u001B[0m: 'SGD' object is not callable"
     ]
    }
   ],
   "source": [
    "worker1.optimizer()"
   ],
   "metadata": {
    "collapsed": false,
    "pycharm": {
     "name": "#%%\n"
    }
   }
  },
  {
   "cell_type": "code",
   "execution_count": 14,
   "outputs": [
    {
     "name": "stdout",
     "output_type": "stream",
     "text": [
      "linear.weight tensor([[-0.0076,  0.0751,  0.0168, -0.1027],\n",
      "        [-0.0435, -0.2942,  0.0199, -0.2675],\n",
      "        [-0.4540, -0.1180,  0.1120, -0.3506]])\n",
      "linear.bias tensor([-0.2377,  0.3823, -0.1655])\n"
     ]
    }
   ],
   "source": [
    "for (param_name,param) in worker1.model.state_dict().items():\n",
    "    print(param_name,param)"
   ],
   "metadata": {
    "collapsed": false,
    "pycharm": {
     "name": "#%%\n"
    }
   }
  },
  {
   "cell_type": "code",
   "execution_count": 15,
   "outputs": [
    {
     "data": {
      "text/plain": "tensor([1., 1., 1.])"
     },
     "execution_count": 15,
     "metadata": {},
     "output_type": "execute_result"
    }
   ],
   "source": [
    "param.grad = torch.ones_like(param)\n",
    "param.grad"
   ],
   "metadata": {
    "collapsed": false,
    "pycharm": {
     "name": "#%%\n"
    }
   }
  },
  {
   "cell_type": "code",
   "execution_count": 16,
   "outputs": [
    {
     "ename": "ImportError",
     "evalue": "cannot import name 'server' from 'server' (/mnt/c/Users/lpott/Desktop/RPC_Tutorial/fedopt_attmpt/server.py)",
     "output_type": "error",
     "traceback": [
      "\u001B[0;31m---------------------------------------------------------------------------\u001B[0m",
      "\u001B[0;31mImportError\u001B[0m                               Traceback (most recent call last)",
      "\u001B[0;32m/tmp/ipykernel_18640/3855946635.py\u001B[0m in \u001B[0;36m<module>\u001B[0;34m\u001B[0m\n\u001B[0;32m----> 1\u001B[0;31m \u001B[0;32mfrom\u001B[0m \u001B[0mserver\u001B[0m \u001B[0;32mimport\u001B[0m \u001B[0mserver\u001B[0m\u001B[0;34m\u001B[0m\u001B[0;34m\u001B[0m\u001B[0m\n\u001B[0m",
      "\u001B[0;31mImportError\u001B[0m: cannot import name 'server' from 'server' (/mnt/c/Users/lpott/Desktop/RPC_Tutorial/fedopt_attmpt/server.py)"
     ]
    }
   ],
   "source": [
    "from server import server"
   ],
   "metadata": {
    "collapsed": false,
    "pycharm": {
     "name": "#%%\n"
    }
   }
  },
  {
   "cell_type": "code",
   "execution_count": 17,
   "outputs": [
    {
     "name": "stdout",
     "output_type": "stream",
     "text": [
      "{'a': [1, 2, 3], 'b': [2, 3, 2]}\n"
     ]
    }
   ],
   "source": [
    "dic = {\"a\":[1,2,3],\"b\":[2,3,2]}\n",
    "for j,k in {\"a\":[1,2,3],\"b\":[2,3,2]}.items():\n",
    "    k.append(2)\n",
    "print(dic)"
   ],
   "metadata": {
    "collapsed": false,
    "pycharm": {
     "name": "#%%\n"
    }
   }
  },
  {
   "cell_type": "code",
   "execution_count": 18,
   "outputs": [
    {
     "ename": "TypeError",
     "evalue": "'LogisticRegression' object is not subscriptable",
     "output_type": "error",
     "traceback": [
      "\u001B[0;31m---------------------------------------------------------------------------\u001B[0m",
      "\u001B[0;31mTypeError\u001B[0m                                 Traceback (most recent call last)",
      "\u001B[0;32m/tmp/ipykernel_18640/4210197981.py\u001B[0m in \u001B[0;36m<module>\u001B[0;34m\u001B[0m\n\u001B[0;32m----> 1\u001B[0;31m \u001B[0mworker1\u001B[0m\u001B[0;34m.\u001B[0m\u001B[0mmodel\u001B[0m\u001B[0;34m[\u001B[0m\u001B[0;34m'linear.1'\u001B[0m\u001B[0;34m]\u001B[0m\u001B[0;34m\u001B[0m\u001B[0;34m\u001B[0m\u001B[0m\n\u001B[0m",
      "\u001B[0;31mTypeError\u001B[0m: 'LogisticRegression' object is not subscriptable"
     ]
    }
   ],
   "source": [
    "worker1.model['linear.1']"
   ],
   "metadata": {
    "collapsed": false,
    "pycharm": {
     "name": "#%%\n"
    }
   }
  },
  {
   "cell_type": "code",
   "execution_count": 24,
   "outputs": [
    {
     "data": {
      "text/plain": "tensor([[0., 0., 0., 0.],\n        [0., 0., 0., 0.],\n        [0., 0., 0., 0.]])"
     },
     "execution_count": 24,
     "metadata": {},
     "output_type": "execute_result"
    }
   ],
   "source": [
    "worker1.model.get_parameter('linear.weight').grad"
   ],
   "metadata": {
    "collapsed": false,
    "pycharm": {
     "name": "#%%\n"
    }
   }
  },
  {
   "cell_type": "code",
   "execution_count": null,
   "outputs": [],
   "source": [
    "worker1.model.get_parameter('linear.weight').grad = torch.zeros_like(worker1.model.get_parameter('linear.weight'))"
   ],
   "metadata": {
    "collapsed": false,
    "pycharm": {
     "name": "#%%\n"
    }
   }
  },
  {
   "cell_type": "code",
   "execution_count": 34,
   "outputs": [],
   "source": [
    "from sklearn.datasets import fetch_openml\n",
    "dataset = fetch_openml(\"mnist_784\")"
   ],
   "metadata": {
    "collapsed": false,
    "pycharm": {
     "name": "#%%\n"
    }
   }
  },
  {
   "cell_type": "code",
   "execution_count": 42,
   "outputs": [
    {
     "data": {
      "text/plain": "[5,\n 0,\n 4,\n 1,\n 9,\n 2,\n 1,\n 3,\n 1,\n 4,\n 3,\n 5,\n 3,\n 6,\n 1,\n 7,\n 2,\n 8,\n 6,\n 9,\n 4,\n 0,\n 9,\n 1,\n 1,\n 2,\n 4,\n 3,\n 2,\n 7,\n 3,\n 8,\n 6,\n 9,\n 0,\n 5,\n 6,\n 0,\n 7,\n 6,\n 1,\n 8,\n 7,\n 9,\n 3,\n 9,\n 8,\n 5,\n 9,\n 3,\n 3,\n 0,\n 7,\n 4,\n 9,\n 8,\n 0,\n 9,\n 4,\n 1,\n 4,\n 4,\n 6,\n 0,\n 4,\n 5,\n 6,\n 1,\n 0,\n 0,\n 1,\n 7,\n 1,\n 6,\n 3,\n 0,\n 2,\n 1,\n 1,\n 7,\n 9,\n 0,\n 2,\n 6,\n 7,\n 8,\n 3,\n 9,\n 0,\n 4,\n 6,\n 7,\n 4,\n 6,\n 8,\n 0,\n 7,\n 8,\n 3,\n 1,\n 5,\n 7,\n 1,\n 7,\n 1,\n 1,\n 6,\n 3,\n 0,\n 2,\n 9,\n 3,\n 1,\n 1,\n 0,\n 4,\n 9,\n 2,\n 0,\n 0,\n 2,\n 0,\n 2,\n 7,\n 1,\n 8,\n 6,\n 4,\n 1,\n 6,\n 3,\n 4,\n 5,\n 9,\n 1,\n 3,\n 3,\n 8,\n 5,\n 4,\n 7,\n 7,\n 4,\n 2,\n 8,\n 5,\n 8,\n 6,\n 7,\n 3,\n 4,\n 6,\n 1,\n 9,\n 9,\n 6,\n 0,\n 3,\n 7,\n 2,\n 8,\n 2,\n 9,\n 4,\n 4,\n 6,\n 4,\n 9,\n 7,\n 0,\n 9,\n 2,\n 9,\n 5,\n 1,\n 5,\n 9,\n 1,\n 2,\n 3,\n 2,\n 3,\n 5,\n 9,\n 1,\n 7,\n 6,\n 2,\n 8,\n 2,\n 2,\n 5,\n 0,\n 7,\n 4,\n 9,\n 7,\n 8,\n 3,\n 2,\n 1,\n 1,\n 8,\n 3,\n 6,\n 1,\n 0,\n 3,\n 1,\n 0,\n 0,\n 1,\n 7,\n 2,\n 7,\n 3,\n 0,\n 4,\n 6,\n 5,\n 2,\n 6,\n 4,\n 7,\n 1,\n 8,\n 9,\n 9,\n 3,\n 0,\n 7,\n 1,\n 0,\n 2,\n 0,\n 3,\n 5,\n 4,\n 6,\n 5,\n 8,\n 6,\n 3,\n 7,\n 5,\n 8,\n 0,\n 9,\n 1,\n 0,\n 3,\n 1,\n 2,\n 2,\n 3,\n 3,\n 6,\n 4,\n 7,\n 5,\n 0,\n 6,\n 2,\n 7,\n 9,\n 8,\n 5,\n 9,\n 2,\n 1,\n 1,\n 4,\n 4,\n 5,\n 6,\n 4,\n 1,\n 2,\n 5,\n 3,\n 9,\n 3,\n 9,\n 0,\n 5,\n 9,\n 6,\n 5,\n 7,\n 4,\n 1,\n 3,\n 4,\n 0,\n 4,\n 8,\n 0,\n 4,\n 3,\n 6,\n 8,\n 7,\n 6,\n 0,\n 9,\n 7,\n 5,\n 7,\n 2,\n 1,\n 1,\n 6,\n 8,\n 9,\n 4,\n 1,\n 5,\n 2,\n 2,\n 9,\n 0,\n 3,\n 9,\n 6,\n 7,\n 2,\n 0,\n 3,\n 5,\n 4,\n 3,\n 6,\n 5,\n 8,\n 9,\n 5,\n 4,\n 7,\n 4,\n 2,\n 7,\n 3,\n 4,\n 8,\n 9,\n 1,\n 9,\n 2,\n 8,\n 7,\n 9,\n 1,\n 8,\n 7,\n 4,\n 1,\n 3,\n 1,\n 1,\n 0,\n 2,\n 3,\n 9,\n 4,\n 9,\n 2,\n 1,\n 6,\n 8,\n 4,\n 7,\n 7,\n 4,\n 4,\n 9,\n 2,\n 5,\n 7,\n 2,\n 4,\n 4,\n 2,\n 1,\n 9,\n 7,\n 2,\n 8,\n 7,\n 6,\n 9,\n 2,\n 2,\n 3,\n 8,\n 1,\n 6,\n 5,\n 1,\n 1,\n 0,\n 2,\n 6,\n 4,\n 5,\n 8,\n 3,\n 1,\n 5,\n 1,\n 9,\n 2,\n 7,\n 4,\n 4,\n 4,\n 8,\n 1,\n 5,\n 8,\n 9,\n 5,\n 6,\n 7,\n 9,\n 9,\n 3,\n 7,\n 0,\n 9,\n 0,\n 6,\n 6,\n 2,\n 3,\n 9,\n 0,\n 7,\n 5,\n 4,\n 8,\n 0,\n 9,\n 4,\n 1,\n 2,\n 8,\n 7,\n 1,\n 2,\n 6,\n 1,\n 0,\n 3,\n 0,\n 1,\n 1,\n 8,\n 2,\n 0,\n 3,\n 9,\n 4,\n 0,\n 5,\n 0,\n 6,\n 1,\n 7,\n 7,\n 8,\n 1,\n 9,\n 2,\n 0,\n 5,\n 1,\n 2,\n 2,\n 7,\n 3,\n 5,\n 4,\n 9,\n 7,\n 1,\n 8,\n 3,\n 9,\n 6,\n 0,\n 3,\n 1,\n 1,\n 2,\n 6,\n 3,\n 5,\n 7,\n 6,\n 8,\n 3,\n 9,\n 5,\n 8,\n 5,\n 7,\n 6,\n 1,\n 1,\n 3,\n 1,\n 7,\n 5,\n 5,\n 5,\n 2,\n 5,\n 8,\n 7,\n 0,\n 9,\n 7,\n 7,\n 5,\n 0,\n 9,\n 0,\n 0,\n 8,\n 9,\n 2,\n 4,\n 8,\n 1,\n 6,\n 1,\n 6,\n 5,\n 1,\n 8,\n 3,\n 4,\n 0,\n 5,\n 5,\n 8,\n 3,\n 6,\n 2,\n 3,\n 9,\n 2,\n 1,\n 1,\n 5,\n 2,\n 1,\n 3,\n 2,\n 8,\n 7,\n 3,\n 7,\n 2,\n 4,\n 6,\n 9,\n 7,\n 2,\n 4,\n 2,\n 8,\n 1,\n 1,\n 3,\n 8,\n 4,\n 0,\n 6,\n 5,\n 9,\n 3,\n 0,\n 9,\n 2,\n 4,\n 7,\n 1,\n 2,\n 9,\n 4,\n 2,\n 6,\n 1,\n 8,\n 9,\n 0,\n 6,\n 6,\n 7,\n 9,\n 9,\n 8,\n 0,\n 1,\n 4,\n 4,\n 6,\n 7,\n 1,\n 5,\n 7,\n 0,\n 3,\n 5,\n 8,\n 4,\n 7,\n 1,\n 2,\n 5,\n 9,\n 5,\n 6,\n 7,\n 5,\n 9,\n 8,\n 8,\n 3,\n 6,\n 9,\n 7,\n 0,\n 7,\n 5,\n 7,\n 1,\n 1,\n 0,\n 7,\n 9,\n 2,\n 3,\n 7,\n 3,\n 2,\n 4,\n 1,\n 6,\n 2,\n 7,\n 5,\n 5,\n 7,\n 4,\n 0,\n 2,\n 6,\n 3,\n 6,\n 4,\n 0,\n 4,\n 2,\n 6,\n 0,\n 0,\n 0,\n 0,\n 3,\n 1,\n 6,\n 2,\n 2,\n 3,\n 1,\n 4,\n 1,\n 5,\n 4,\n 6,\n 4,\n 7,\n 2,\n 8,\n 7,\n 9,\n 2,\n 0,\n 5,\n 1,\n 4,\n 2,\n 8,\n 3,\n 2,\n 4,\n 1,\n 5,\n 4,\n 6,\n 0,\n 7,\n 9,\n 8,\n 4,\n 9,\n 8,\n 0,\n 1,\n 1,\n 0,\n 2,\n 2,\n 3,\n 2,\n 4,\n 4,\n 5,\n 8,\n 6,\n 5,\n 7,\n 7,\n 8,\n 8,\n 9,\n 7,\n 4,\n 7,\n 3,\n 2,\n 0,\n 8,\n 6,\n 8,\n 6,\n 1,\n 6,\n 8,\n 9,\n 4,\n 0,\n 9,\n 0,\n 4,\n 1,\n 5,\n 4,\n 7,\n 5,\n 3,\n 7,\n 4,\n 9,\n 8,\n 5,\n 8,\n 6,\n 3,\n 8,\n 6,\n 9,\n 9,\n 1,\n 8,\n 3,\n 5,\n 8,\n 6,\n 5,\n 9,\n 7,\n 2,\n 5,\n 0,\n 8,\n 5,\n 1,\n 1,\n 0,\n 9,\n 1,\n 8,\n 6,\n 7,\n 0,\n 9,\n 3,\n 0,\n 8,\n 8,\n 9,\n 6,\n 7,\n 8,\n 4,\n 7,\n 5,\n 9,\n 2,\n 6,\n 7,\n 4,\n 5,\n 9,\n 2,\n 3,\n 1,\n 6,\n 3,\n 9,\n 2,\n 2,\n 5,\n 6,\n 8,\n 0,\n 7,\n 7,\n 1,\n 9,\n 8,\n 7,\n 0,\n 9,\n 9,\n 4,\n 6,\n 2,\n 8,\n 5,\n 1,\n 4,\n 1,\n 5,\n 5,\n 1,\n 7,\n 3,\n 6,\n 4,\n 3,\n 2,\n 5,\n 6,\n 4,\n 4,\n 0,\n 4,\n 4,\n 6,\n 7,\n 2,\n 4,\n 3,\n 3,\n 8,\n 0,\n 0,\n 3,\n 2,\n 2,\n 9,\n 8,\n 2,\n 3,\n 7,\n 0,\n 1,\n 1,\n 0,\n 2,\n 3,\n 3,\n 8,\n 4,\n 3,\n 5,\n 7,\n 6,\n 4,\n 7,\n 7,\n 8,\n 5,\n 9,\n 7,\n 0,\n 3,\n 1,\n 6,\n 2,\n 4,\n 3,\n 4,\n 4,\n 7,\n 5,\n 9,\n 6,\n 9,\n 0,\n 7,\n 1,\n 4,\n 2,\n 7,\n 3,\n 6,\n 7,\n 5,\n 8,\n 4,\n 5,\n 5,\n 2,\n 7,\n 1,\n 1,\n 5,\n 6,\n 8,\n 5,\n 8,\n 4,\n 0,\n 7,\n 9,\n 9,\n 2,\n 9,\n 7,\n 7,\n 8,\n 7,\n 4,\n 2,\n 6,\n 9,\n 1,\n 7,\n 0,\n 6,\n 4,\n 2,\n 5,\n 7,\n 0,\n 7,\n 1,\n 0,\n 3,\n 7,\n 6,\n 5,\n 0,\n 6,\n 1,\n 5,\n 1,\n 7,\n 8,\n 5,\n 0,\n 3,\n 4,\n 7,\n 7,\n 5,\n 7,\n 8,\n 6,\n 9,\n 3,\n 8,\n 6,\n 1,\n 0,\n 9,\n 7,\n 1,\n 3,\n 0,\n 5,\n 6,\n 4,\n 4,\n 2,\n 4,\n 4,\n 3,\n 1,\n 7,\n 7,\n 6,\n 0,\n 3,\n 6,\n ...]"
     },
     "execution_count": 42,
     "metadata": {},
     "output_type": "execute_result"
    }
   ],
   "source": [
    "dataset.data\n",
    "dataset.target.astype(int).tolist()"
   ],
   "metadata": {
    "collapsed": false,
    "pycharm": {
     "name": "#%%\n"
    }
   }
  }
 ],
 "metadata": {
  "kernelspec": {
   "name": "fedml_linux",
   "language": "python",
   "display_name": "fedml_linx"
  },
  "language_info": {
   "codemirror_mode": {
    "name": "ipython",
    "version": 2
   },
   "file_extension": ".py",
   "mimetype": "text/x-python",
   "name": "python",
   "nbconvert_exporter": "python",
   "pygments_lexer": "ipython2",
   "version": "2.7.6"
  }
 },
 "nbformat": 4,
 "nbformat_minor": 0
}